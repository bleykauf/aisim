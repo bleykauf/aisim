{
 "cells": [
  {
   "cell_type": "markdown",
   "metadata": {},
   "source": [
    "# Usage\n",
    "\n",
    "Import AISim plus numpy and matplotlib and print current version:"
   ]
  },
  {
   "cell_type": "code",
   "execution_count": 1,
   "metadata": {},
   "outputs": [],
   "source": [
    "import numpy as np\n",
    "import matplotlib.pyplot as plt\n",
    "import aisim as ais"
   ]
  },
  {
   "cell_type": "markdown",
   "metadata": {},
   "source": [
    "As an example, we simulate Rabi oscillations driven by stimulated Raman transitions in the presence of thermal motion.\n",
    "\n",
    "First, we define a `AtomicEnsemble` object for atoms from a magneto-optical trap after sub-Doppler cooling:"
   ]
  },
  {
   "cell_type": "code",
   "execution_count": 2,
   "metadata": {},
   "outputs": [],
   "source": [
    "# spherical atomic cloud with radius 3 mm\n",
    "pos_params = {\n",
    "     'mean_x': 0.0,\n",
    "     'std_x' : 3.0e-3, \n",
    "     'mean_y': 0.0,\n",
    "     'std_y' : 3.0e-3,\n",
    "     'mean_z': 0.0,\n",
    "     'std_z' : 3.0e-3\n",
    "}\n",
    "\n",
    "# cloud velocity spread in m/s at tempearture of 3 μK in x and y,\n",
    "# and 150 nK in z (after a velocity selection process):\n",
    "vel_params = {\n",
    "     'mean_vx': 0.0,\n",
    "     'std_vx' : ais.convert.vel_from_temp(3.0e-6), \n",
    "     'mean_vy': 0.0,\n",
    "     'std_vy' : ais.convert.vel_from_temp(3.0e-6), \n",
    "     'mean_vz': 0.0,\n",
    "     'std_vz' : ais.convert.vel_from_temp(150e-9)\n",
    "}\n",
    "\n",
    "# generate an AtomicEnsemble of 10000 atomsin the ground state\n",
    "atoms = ais.create_random_ensemble_from_gaussian_distribution(\n",
    "    pos_params,\n",
    "    vel_params, int(1e4),\n",
    "    state_kets=[1, 0])"
   ]
  },
  {
   "cell_type": "markdown",
   "metadata": {},
   "source": [
    "Only a fraction of these atoms will be detected after a time-of-flight of 800 ms. We model the detection region with radius of 5 mm:"
   ]
  },
  {
   "cell_type": "code",
   "execution_count": 3,
   "metadata": {},
   "outputs": [],
   "source": [
    "det = ais.Detector(r_det=5e-3, t_det=800e-3)"
   ]
  },
  {
   "cell_type": "markdown",
   "metadata": {},
   "source": [
    "We select the atoms that are eventually detected, let those freely propagate for 100 ms"
   ]
  },
  {
   "cell_type": "code",
   "execution_count": 4,
   "metadata": {},
   "outputs": [],
   "source": [
    "ais.FreePropagator?"
   ]
  },
  {
   "cell_type": "code",
   "execution_count": 5,
   "metadata": {},
   "outputs": [],
   "source": [
    "atoms = det.detected_atoms(atoms)\n",
    "free_prop = ais.FreePropagator(100e-3)\n",
    "atoms = free_prop.propagate(atoms)"
   ]
  },
  {
   "cell_type": "markdown",
   "metadata": {},
   "source": [
    "We setup the two counter-propagating Raman laser beams with a wavelength of 780 nm, 30 mm beam diameter and a Rabi frequency of 15 kHz as  `IntensityProfile` and `WaveVectors` objects and finally create a `TwoL` that propagates the atomic system by 1 μs while the light is turned on."
   ]
  },
  {
   "cell_type": "code",
   "execution_count": 6,
   "metadata": {},
   "outputs": [],
   "source": [
    "intensity_profile = ais.IntensityProfile(\n",
    "    r_beam=15e-3,\n",
    "    center_rabi_freq=2*np.pi*15e3)\n",
    "\n",
    "wave_vectors = ais.Wavevectors( k1=2*np.pi/780e-9, k2=-2*np.pi/780e-9)\n",
    "\n",
    "time_delta = 1e-6\n",
    "prop = ais.TwoLevelTransitionPropagator(time_delta,\n",
    "                                        intensity_profile=intensity_profile,\n",
    "                                       wave_vectors=wave_vectors)"
   ]
  },
  {
   "cell_type": "markdown",
   "metadata": {},
   "source": [
    "Now, we start the Rabi oscillations up to 200 μs:"
   ]
  },
  {
   "cell_type": "code",
   "execution_count": 7,
   "metadata": {},
   "outputs": [],
   "source": [
    "state_occupation = []\n",
    "taus = np.arange(200) * time_delta\n",
    "for tau in taus:\n",
    "    atoms = prop.propagate(atoms)\n",
    "    mean_occupation = np.mean(atoms.state_occupation(state=1))\n",
    "    state_occupation.append(mean_occupation)"
   ]
  },
  {
   "cell_type": "markdown",
   "metadata": {},
   "source": [
    "Finally, we plot the results:"
   ]
  },
  {
   "cell_type": "code",
   "execution_count": 8,
   "metadata": {},
   "outputs": [
    {
     "data": {
      "image/png": "[encoded data removed]",
      "text/plain": [
       "<Figure size 432x288 with 1 Axes>"
      ]
     },
     "metadata": {
      "needs_background": "light"
     },
     "output_type": "display_data"
    }
   ],
   "source": [
    "fig, ax = plt.subplots()\n",
    "ax.plot(1e6*taus, state_occupation)\n",
    "ax.set_xlabel('Pulse duration / μs')\n",
    "ax.set_ylabel('Occupation of excited state');"
   ]
  },
  {
   "cell_type": "markdown",
   "metadata": {},
   "source": [
    "We visualize the spread of the atomic ensemble and its convolution with the detector."
   ]
  },
  {
   "cell_type": "code",
   "execution_count": 9,
   "metadata": {},
   "outputs": [],
   "source": [
    "fig.savefig('rabi-oscillations.png')"
   ]
  },
  {
   "cell_type": "code",
   "execution_count": null,
   "metadata": {},
   "outputs": [],
   "source": []
  }
 ],
 "metadata": {
  "kernelspec": {
   "display_name": "Python 3",
   "language": "python",
   "name": "python3"
  },
  "language_info": {
   "codemirror_mode": {
    "name": "ipython",
    "version": 3
   },
   "file_extension": ".py",
   "mimetype": "text/x-python",
   "name": "python",
   "nbconvert_exporter": "python",
   "pygments_lexer": "ipython3",
   "version": "3.7.6"
  }
 },
 "nbformat": 4,
 "nbformat_minor": 2
}
