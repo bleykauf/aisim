{
 "cells": [
  {
   "cell_type": "markdown",
   "metadata": {},
   "source": [
    "# Example: Multiport atom interferometer"
   ]
  },
  {
   "cell_type": "code",
   "execution_count": 1,
   "metadata": {},
   "outputs": [],
   "source": [
    "%matplotlib inline\n",
    "\n",
    "import numpy as np\n",
    "\n",
    "import aisim as ais"
   ]
  },
  {
   "cell_type": "markdown",
   "metadata": {},
   "source": [
    "We simulate a Mach-Zehnder atom interferometer sequence, including all six output ports that are created due to imperfect beam splitter and mirror pulses.\n",
    "\n",
    "Each of these output ports is represented by an entry in each of the atoms' state vector properties (e.g. `state_ket`). The index of each port is illustrated in the following schematic:\n",
    "\n",
    "![title](multiport_ai.jpeg)\n",
    "\n",
    "That means that the excited and ground states after the first beamsplitter have indices 0 and 5, respectively.\n",
    "\n",
    "First, we establish all relevant objects and parameters for the atomic sample and the experimental apparatus:"
   ]
  },
  {
   "cell_type": "code",
   "execution_count": 2,
   "metadata": {},
   "outputs": [],
   "source": [
    "pos_params = {\n",
    "    'mean_x': 0.0,\n",
    "    'std_x': 3.0e-3,  # cloud radius in m\n",
    "    'mean_y': 0.0,\n",
    "    'std_y': 3.0e-3,  # cloud radius in m\n",
    "    'mean_z': 0.0,\n",
    "    'std_z': 0.0,        \n",
    "}\n",
    "vel_params = {\n",
    "    'mean_vx': 0.0,\n",
    "    # cloud velocity spread in m/s at tempearture of 3 uK\n",
    "    'std_vx': ais.convert.vel_from_temp(3.0e-6),\n",
    "    'mean_vy': 0.0,\n",
    "    # cloud velocity spread in m/s at tempearture of 3 uK\n",
    "    'std_vy': ais.convert.vel_from_temp(3.0e-6),\n",
    "    'mean_vz': 0.0,\n",
    "    'std_vz': ais.convert.vel_from_temp(100e-9), # only atoms within a narrow velocity class are pre-selected\n",
    "}\n",
    "\n",
    "t_det = 778e-3 # time of the detection in s\n",
    "r_det = 5e-3 # size of detected region in x-y plane\n",
    "det = ais.SphericalDetector(t_det, r_det=r_det) # set detection region\n",
    "\n",
    "center_rabi_freq = 2 * np.pi * 12.5e3\n",
    "r_beam = 29.5e-3 / 2  # 1/e^2 beam radius in m\n",
    "intensity_profile = ais.IntensityProfile(r_beam, center_rabi_freq)\n",
    "wave_vectors = ais.Wavevectors(k1=8.052945514e6, k2=-8.052802263e6)\n",
    "\n",
    "# Creating an atomic ensemble, initially in the ground state |g, v_0, x_0 + v_0*t> \n",
    "# and continuing only with the atoms that are eventually detected\n",
    "atoms = ais.create_random_ensemble_from_gaussian_distribution(\n",
    "    pos_params, vel_params, int(1e4), state_kets=[0, 0, 0, 0, 0, 1])\n",
    "atoms = det.detected_atoms(atoms)"
   ]
  },
  {
   "cell_type": "markdown",
   "metadata": {},
   "source": [
    "Next, we create the three propagators that comprise the atom interferometer and a propagator modeling free evolution of the atoms:"
   ]
  },
  {
   "cell_type": "code",
   "execution_count": 3,
   "metadata": {},
   "outputs": [],
   "source": [
    "# length of a beamspliter pulse\n",
    "tau = 23e-6\n",
    "\n",
    "beam_splitter1 = ais.SpatialSuperpositionTransitionPropagator(\n",
    "    tau, n_pulse=1, n_pulses=3,\n",
    "    intensity_profile=intensity_profile, wave_vectors=wave_vectors)\n",
    "\n",
    "mirror = ais.SpatialSuperpositionTransitionPropagator(\n",
    "    2 * tau, n_pulse=2, n_pulses=3,\n",
    "    intensity_profile=intensity_profile, wave_vectors=wave_vectors)\n",
    "\n",
    "beam_splitter2 = ais.SpatialSuperpositionTransitionPropagator(\n",
    "    tau, n_pulse=3, n_pulses=3,\n",
    "    intensity_profile=intensity_profile, wave_vectors=wave_vectors)\n",
    "\n",
    "free_prop= ais.FreePropagator(260e-3)"
   ]
  },
  {
   "cell_type": "markdown",
   "metadata": {},
   "source": [
    "To illustrate the simulation, we propagate the atoms step by step. Initially, all atoms are in the ground state:"
   ]
  },
  {
   "cell_type": "code",
   "execution_count": 4,
   "metadata": {},
   "outputs": [
    {
     "data": {
      "text/plain": [
       "[0.0, 0.0, 0.0, 0.0, 0.0, 1.0]"
      ]
     },
     "execution_count": 4,
     "metadata": {},
     "output_type": "execute_result"
    }
   ],
   "source": [
    "[np.mean(atoms.state_occupation(i)) for i in range(6)]"
   ]
  },
  {
   "cell_type": "markdown",
   "metadata": {},
   "source": [
    "First, the atoms are subjected to the first beamsplitter pulse that transfers atoms into a roughly equal superposition between ground and excited state, i.e. indices 0 and 5:"
   ]
  },
  {
   "cell_type": "code",
   "execution_count": 5,
   "metadata": {},
   "outputs": [],
   "source": [
    "atoms = beam_splitter1.propagate(atoms)"
   ]
  },
  {
   "cell_type": "code",
   "execution_count": 6,
   "metadata": {},
   "outputs": [
    {
     "data": {
      "text/plain": [
       "[0.4714979674699093, 0.0, 0.0, 0.0, 0.0, 0.5285020325300908]"
      ]
     },
     "execution_count": 6,
     "metadata": {},
     "output_type": "execute_result"
    }
   ],
   "source": [
    "[np.mean(atoms.state_occupation(i)) for i in range(6)]"
   ]
  },
  {
   "cell_type": "markdown",
   "metadata": {},
   "source": [
    "After free propagation a mirror pulse ideally transfers all atoms from the excited state (index 0) to the ground state (index 3) and from the ground state (index 5) to the excited state (index 2):"
   ]
  },
  {
   "cell_type": "code",
   "execution_count": 7,
   "metadata": {},
   "outputs": [],
   "source": [
    "atoms = free_prop.propagate(atoms)\n",
    "atoms = mirror.propagate(atoms)"
   ]
  },
  {
   "cell_type": "code",
   "execution_count": 8,
   "metadata": {},
   "outputs": [
    {
     "data": {
      "text/plain": [
       "[0.11096631568718902,\n",
       " 0.0,\n",
       " 0.39041050819211104,\n",
       " 0.3605316517827202,\n",
       " 0.0,\n",
       " 0.13809152433797972]"
      ]
     },
     "execution_count": 8,
     "metadata": {},
     "output_type": "execute_result"
    }
   ],
   "source": [
    "[np.mean(atoms.state_occupation(i)) for i in range(6)]"
   ]
  },
  {
   "cell_type": "markdown",
   "metadata": {},
   "source": [
    "Finally, the second beam splitter pulse couples three pairs of states as indicated in the schematic above (indices 0 ↔ 1, 2 ↔ 3, 4 ↔ 5)."
   ]
  },
  {
   "cell_type": "code",
   "execution_count": 9,
   "metadata": {},
   "outputs": [],
   "source": [
    "atoms = free_prop.propagate(atoms)\n",
    "atoms = beam_splitter2.propagate(atoms)"
   ]
  },
  {
   "cell_type": "markdown",
   "metadata": {},
   "source": [
    " Indices 2 and 3 form the output of the closed interferometer that are of relevance for us:"
   ]
  },
  {
   "cell_type": "code",
   "execution_count": 10,
   "metadata": {},
   "outputs": [
    {
     "data": {
      "text/plain": [
       "[0.012465915360211103, 0.7384762446146201]"
      ]
     },
     "execution_count": 10,
     "metadata": {},
     "output_type": "execute_result"
    }
   ],
   "source": [
    "[np.mean(atoms.state_occupation(i)) for i in [2, 3]]"
   ]
  },
  {
   "cell_type": "markdown",
   "metadata": {},
   "source": [
    "From this, we infere a fringe contrast of roughly 0.73 - 0.01 = 72% which aligns well with experimental results."
   ]
  }
 ],
 "metadata": {
  "kernelspec": {
   "display_name": "Python 3",
   "language": "python",
   "name": "python3"
  },
  "language_info": {
   "codemirror_mode": {
    "name": "ipython",
    "version": 3
   },
   "file_extension": ".py",
   "mimetype": "text/x-python",
   "name": "python",
   "nbconvert_exporter": "python",
   "pygments_lexer": "ipython3",
   "version": "3.11.6"
  }
 },
 "nbformat": 4,
 "nbformat_minor": 2
}
