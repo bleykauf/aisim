{
 "cells": [
  {
   "cell_type": "markdown",
   "metadata": {},
   "source": [
    "# Example: Multiport atom interferometer"
   ]
  },
  {
   "cell_type": "code",
   "execution_count": 19,
   "metadata": {},
   "outputs": [],
   "source": [
    "%matplotlib inline\n",
    "\n",
    "import numpy as np\n",
    "import matplotlib.pyplot as plt\n",
    "\n",
    "import aisim as ais"
   ]
  },
  {
   "cell_type": "code",
   "execution_count": 88,
   "metadata": {},
   "outputs": [],
   "source": [
    "pos_params = {\n",
    "    'mean_x': 0.0,\n",
    "    'std_x': 3.0e-3,  # cloud radius in m\n",
    "    'mean_y': 0.0,\n",
    "    'std_y': 3.0e-3,  # cloud radius in m\n",
    "    'mean_z': 0.0,\n",
    "    'std_z': 0,        # ignore z dimension, its not relevant here\n",
    "}\n",
    "vel_params = {\n",
    "    'mean_vx': 0.0,\n",
    "    # cloud velocity spread in m/s at tempearture of 3 uK\n",
    "    'std_vx': ais.convert.vel_from_temp(3.0e-6),\n",
    "    'mean_vy': 0.0,\n",
    "    # cloud velocity spread in m/s at tempearture of 3 uK\n",
    "    'std_vy': ais.convert.vel_from_temp(3.0e-6),\n",
    "    'mean_vz': 0.0,\n",
    "    'std_vz': ais.convert.vel_from_temp(80e-9),\n",
    "}\n",
    "\n",
    "t_det = 778e-3 # time of the detection in s\n",
    "r_det = 5e-3 # size of detected region in x-y plane\n",
    "det = ais.Detector(r_det, t_det) # set detection region\n",
    "\n",
    "center_Rabi_freq = 2 * np.pi * 12.5e3\n",
    "r_beam = 29.5e3 / 2  # 1/e^2 beam radius in m\n",
    "intensity_profile = ais.IntensityProfile(r_beam, center_Rabi_freq)\n",
    "wave_vectors = ais.Wavevectors(k1=8.052945514e6, k2=-8.052802263e6)\n",
    "\n",
    "# length of a pi/2 pulse\n",
    "tau = 1 / 12.5e3 / 4"
   ]
  },
  {
   "cell_type": "code",
   "execution_count": 89,
   "metadata": {},
   "outputs": [],
   "source": [
    "population0 = []\n",
    "population1 = []\n",
    "population2 = []\n",
    "for phase in np.linspace(0, 2*np.pi, 36):\n",
    "    \n",
    "    atoms = ais.create_random_ensemble_from_gaussian_distribution(\n",
    "    pos_params, vel_params, int(1e4), state_kets=[1, 0, 0, 0, 0, 0], seed=1)\n",
    "    atoms = det.detected_atoms(atoms)\n",
    "    \n",
    "    beam_splitter1 = ais.SpatialSuperpositionTransitionPropagator(\n",
    "        tau, n_pulse=1, n_pulses=3,\n",
    "        intensity_profile=intensity_profile, wave_vectors=wave_vectors)\n",
    "    mirror = ais.SpatialSuperpositionTransitionPropagator(\n",
    "        2 * tau, n_pulse=2, n_pulses=3,\n",
    "        intensity_profile=intensity_profile, wave_vectors=wave_vectors)\n",
    "    beam_splitter2 = ais.SpatialSuperpositionTransitionPropagator(\n",
    "        tau, n_pulse=3, n_pulses=3,\n",
    "        intensity_profile=intensity_profile, wave_vectors=wave_vectors,\n",
    "        phase_scan=phase)\n",
    "    free_prop= ais.FreePropagator(260e-3)\n",
    "\n",
    "    atoms = beam_splitter1.propagate(atoms)\n",
    "    atoms = free_prop.propagate(atoms)\n",
    "    atoms = mirror.propagate(atoms)\n",
    "    atoms = free_prop.propagate(atoms)\n",
    "    atoms = beam_splitter2.propagate(atoms)\n",
    "    \n",
    "    population0.append(np.mean(atoms.state_occupation(5)))\n",
    "    population1.append(np.mean(atoms.state_occupation(2)))\n",
    "    population2.append(np.mean(atoms.state_occupation(3)))"
   ]
  },
  {
   "cell_type": "code",
   "execution_count": 90,
   "metadata": {},
   "outputs": [
    {
     "data": {
      "text/plain": [
       "[<matplotlib.lines.Line2D at 0x2b1cec17588>]"
      ]
     },
     "execution_count": 90,
     "metadata": {},
     "output_type": "execute_result"
    },
    {
     "data": {
      "image/png": "[encoded data removed]",
      "text/plain": [
       "<Figure size 432x288 with 1 Axes>"
      ]
     },
     "metadata": {
      "needs_background": "light"
     },
     "output_type": "display_data"
    }
   ],
   "source": [
    "fig, ax = plt.subplots()\n",
    "ax.set_ylim(0, 1)\n",
    "plt.plot(population1)\n",
    "plt.plot(population2)"
   ]
  },
  {
   "cell_type": "code",
   "execution_count": 80,
   "metadata": {},
   "outputs": [
    {
     "data": {
      "text/plain": [
       "[0.007488656417458653,\n",
       " 0.007195230738240697,\n",
       " 0.9087753693248608,\n",
       " 0.06242517954398323,\n",
       " 0.006920333237217693,\n",
       " 0.0071952307382389825]"
      ]
     },
     "execution_count": 80,
     "metadata": {},
     "output_type": "execute_result"
    }
   ],
   "source": [
    "[np.mean(atoms.state_occupation(i)) for i in range(6)]"
   ]
  },
  {
   "cell_type": "code",
   "execution_count": 46,
   "metadata": {},
   "outputs": [
    {
     "data": {
      "text/plain": [
       "array([0.        , 0.17951958, 0.35903916, 0.53855874, 0.71807832,\n",
       "       0.8975979 , 1.07711748, 1.25663706, 1.43615664, 1.61567622,\n",
       "       1.7951958 , 1.97471538, 2.15423496, 2.33375454, 2.51327412,\n",
       "       2.6927937 , 2.87231328, 3.05183286, 3.23135244, 3.41087202,\n",
       "       3.5903916 , 3.76991118, 3.94943076, 4.12895034, 4.30846992,\n",
       "       4.48798951, 4.66750909, 4.84702867, 5.02654825, 5.20606783,\n",
       "       5.38558741, 5.56510699, 5.74462657, 5.92414615, 6.10366573,\n",
       "       6.28318531])"
      ]
     },
     "execution_count": 46,
     "metadata": {},
     "output_type": "execute_result"
    }
   ],
   "source": []
  },
  {
   "cell_type": "code",
   "execution_count": null,
   "metadata": {},
   "outputs": [],
   "source": []
  }
 ],
 "metadata": {
  "kernelspec": {
   "display_name": "Python 3",
   "language": "python",
   "name": "python3"
  },
  "language_info": {
   "codemirror_mode": {
    "name": "ipython",
    "version": 3
   },
   "file_extension": ".py",
   "mimetype": "text/x-python",
   "name": "python",
   "nbconvert_exporter": "python",
   "pygments_lexer": "ipython3",
   "version": "3.7.6"
  }
 },
 "nbformat": 4,
 "nbformat_minor": 2
}
