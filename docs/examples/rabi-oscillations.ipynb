{
 "cells": [
  {
   "cell_type": "markdown",
   "metadata": {},
   "source": [
    "# Example: Rabi oscillations with a Gaussian beam and thermal atoms\n",
    "\n",
    "We simulate the decay of Rabi oscillation in the presence of thermal motion. Note that at the moment this only includes the motion within the $x$-$y$ plane, as well as in the $z$ direction. The parameters that we use here are roughly the ones that are achieved with the atom interferometer [GAIN](https://www.physics.hu-berlin.de/en/qom/research/ai).\n",
    "\n",
    "The simulation will require the following objects and parameters\n",
    "* `IntensityProfile`: contains information about the Gaussian beams\n",
    "* `Wavevectors`: the wavevectors are important for the incorporation of the Doppler shift along $z$\n",
    "* `AtomicEnsemble`: an ensemble of atoms which different trajectors or phase space vectors\n",
    "* `Detector`: determines which atoms contribute to the signal\n",
    "* `t`: time of flight before the lasers are turned on"
   ]
  },
  {
   "cell_type": "code",
   "execution_count": 1,
   "metadata": {},
   "outputs": [],
   "source": [
    "%matplotlib inline\n",
    "\n",
    "import numpy as np\n",
    "import matplotlib.pyplot as plt\n",
    "\n",
    "import aisim as ais"
   ]
  },
  {
   "cell_type": "code",
   "execution_count": 2,
   "metadata": {},
   "outputs": [
    {
     "name": "stdout",
     "output_type": "stream",
     "text": [
      "v0.5.2+12.g2afc1d2.dirty\n"
     ]
    }
   ],
   "source": [
    "print(ais.__version__)"
   ]
  },
  {
   "cell_type": "markdown",
   "metadata": {},
   "source": [
    "### Detector\n",
    "\n",
    "Setting up da detector with a fixed detection radius and time."
   ]
  },
  {
   "cell_type": "code",
   "execution_count": 3,
   "metadata": {},
   "outputs": [],
   "source": [
    "t_det = 778e-3 # time of the detection in s\n",
    "r_det = 5e-3 # size of detected region in x-y plane\n",
    "\n",
    "det = ais.Detector(r_det, t_det) # set detection region"
   ]
  },
  {
   "cell_type": "markdown",
   "metadata": {},
   "source": [
    "### Atomic cloud and state vectors\n",
    "\n",
    "Here we use a Monte-Carlo method by randomly drawing positions and velocities from a distribution. We initialize all atoms in the excited state, represented by a state vector `[0, 1]`."
   ]
  },
  {
   "cell_type": "code",
   "execution_count": 4,
   "metadata": {},
   "outputs": [],
   "source": [
    "pos_params = {\n",
    "     'mean_x': 0.0,\n",
    "     'std_x' : 3.0e-3, # cloud radius in m\n",
    "     'mean_y': 0.0,\n",
    "     'std_y' : 3.0e-3, # cloud radius in m\n",
    "     'mean_z': 0.0,\n",
    "     'std_z' : 0.0,        # ignore z dimension, its not relevant here\n",
    "}\n",
    "vel_params = {\n",
    "     'mean_vx': 0.0,\n",
    "     'std_vx' : ais.convert.vel_from_temp(3.0e-6), # cloud velocity spread in m/s at tempearture of 3 uK\n",
    "     'mean_vy': 0.0,\n",
    "     'std_vy' : ais.convert.vel_from_temp(3.0e-6), # cloud velocity spread in m/s at tempearture of 3 uK\n",
    "     'mean_vz': 0.0,\n",
    "     'std_vz' : ais.convert.vel_from_temp(160e-9), # after velocity selection, velocity in z direction is 160 nK\n",
    "}\n",
    "\n",
    "atoms = ais.create_random_ensemble_from_gaussian_distribution(\n",
    "    pos_params,\n",
    "    vel_params, int(1e4),\n",
    "    state_vectors=[0, 1])"
   ]
  },
  {
   "cell_type": "markdown",
   "metadata": {},
   "source": [
    "We visualize the spread of the atomic ensemble and its convolution with the detector."
   ]
  },
  {
   "cell_type": "code",
   "execution_count": 5,
   "metadata": {},
   "outputs": [
    {
     "data": {
      "text/plain": [
       "Text(0, 0.5, 'y / mm')"
      ]
     },
     "execution_count": 5,
     "metadata": {},
     "output_type": "execute_result"
    },
    {
     "data": {
      "image/png": "[encoded data removed]",
      "text/plain": [
       "<Figure size 432x288 with 1 Axes>"
      ]
     },
     "metadata": {
      "needs_background": "light"
     },
     "output_type": "display_data"
    }
   ],
   "source": [
    "x0 = atoms.initial_position[:, 0]\n",
    "y0 = atoms.initial_position[:, 1]\n",
    "\n",
    "x_det = atoms.calc_position(t_det)[:, 0]\n",
    "y_det = atoms.calc_position(t_det)[:, 1]\n",
    "\n",
    "fig, ax = plt.subplots()\n",
    "ax.scatter(1e3*x_det, 1e3*y_det, label='cloud at detection')\n",
    "ax.scatter(1e3*x0, 1e3*y0, label='initial cloud')\n",
    "angle = np.linspace(0, 2*np.pi, 100)\n",
    "ax.plot(1e3*r_det*np.cos(angle), 1e3*r_det*np.sin(angle), c='C2', label='detection region')\n",
    "\n",
    "ax.set_aspect('equal', 'box')\n",
    "\n",
    "ax.set_xlabel('x / mm')\n",
    "ax.set_ylabel('y / mm')"
   ]
  },
  {
   "cell_type": "code",
   "execution_count": 6,
   "metadata": {},
   "outputs": [
    {
     "name": "stdout",
     "output_type": "stream",
     "text": [
      "660 of the initial 10000 atoms are detected. That's 6.6000000000000005%\n"
     ]
    }
   ],
   "source": [
    "n_init = len(atoms)\n",
    "atoms = det.detected_atoms(atoms)\n",
    "\n",
    "print(\"{} of the initial {} atoms are detected. That's {}%\".format(len(atoms), n_init, len(atoms)/n_init*100))"
   ]
  },
  {
   "cell_type": "markdown",
   "metadata": {},
   "source": [
    "### Intensity profile\n",
    "\n",
    "We set up an intensity profile of the interferometry laser, defined by the center Rabi frequency"
   ]
  },
  {
   "cell_type": "code",
   "execution_count": 7,
   "metadata": {},
   "outputs": [],
   "source": [
    "center_rabi_freq = 2*np.pi*12.5e3 # center Rabi frequency in Hz\n",
    "r_beam = 29.5e-3/2 # 1/e^2 beam radius in m\n",
    "intensity_profile = ais.IntensityProfile(r_beam, center_rabi_freq)"
   ]
  },
  {
   "cell_type": "markdown",
   "metadata": {},
   "source": [
    "### Wave vectors\n",
    "\n",
    "We set up the two wavevectors used to drive the Raman transitions:"
   ]
  },
  {
   "cell_type": "code",
   "execution_count": 8,
   "metadata": {},
   "outputs": [],
   "source": [
    "wave_vectors = ais.Wavevectors( k1 = 2*np.pi/780e-9, k2 = -2*np.pi/780e-9)"
   ]
  },
  {
   "cell_type": "markdown",
   "metadata": {},
   "source": [
    "### Simulation\n",
    "\n",
    "First, we freely propagate the atomic ensemble to the time when we start the Rabi oscillations by applying a light pulse. We save the resulting `AtomicEnsemble` in two objects since we want to perform two different simulations with this ensemble."
   ]
  },
  {
   "cell_type": "code",
   "execution_count": 9,
   "metadata": {},
   "outputs": [],
   "source": [
    "atoms1 = ais.create_random_ensemble_from_gaussian_distribution(\n",
    "    pos_params,\n",
    "    vel_params, int(1e4),\n",
    "    state_vectors=[0, 1])\n",
    "atoms2 = ais.create_random_ensemble_from_gaussian_distribution(\n",
    "    pos_params,\n",
    "    vel_params, int(1e4),\n",
    "    state_vectors=[0, 1])\n",
    "\n",
    "atoms1 = det.detected_atoms(atoms1)\n",
    "atoms2 = det.detected_atoms(atoms2)\n",
    "\n",
    "free_prop = ais.FreePropagator(129e-3)\n",
    "\n",
    "atoms1 = free_prop.propagate(atoms1)\n",
    "atoms2 = free_prop.propagate(atoms2)"
   ]
  },
  {
   "cell_type": "markdown",
   "metadata": {},
   "source": [
    "The current position of the atoms is stored in `atoms.positions` and the `time` attribute has changed accordingly:"
   ]
  },
  {
   "cell_type": "markdown",
   "metadata": {},
   "source": [
    "We now simulate the effect of the pulse length in two different ways. First, we neglect the motion of the atoms in the $z$ direction, then we incorporate the Doppler effect caused by the finite temperature in $z$. We first set up two different propagators for this:"
   ]
  },
  {
   "cell_type": "code",
   "execution_count": 10,
   "metadata": {},
   "outputs": [],
   "source": [
    "prop1 = ais.TwoLevelTransitionPropagator(time_delta=1e-6, intensity_profile=intensity_profile)\n",
    "prop2 = ais.TwoLevelTransitionPropagator(time_delta=1e-6, intensity_profile=intensity_profile, wave_vectors=wave_vectors)"
   ]
  },
  {
   "cell_type": "code",
   "execution_count": 11,
   "metadata": {
    "scrolled": true
   },
   "outputs": [],
   "source": [
    "state_occupation1 = []\n",
    "state_occupation2 = []\n",
    "taus = np.arange(200) * 1e-6\n",
    "for tau in taus:\n",
    "    # acting on the states in `atom` at each run\n",
    "    atoms1 = prop1.propagate(atoms1)\n",
    "    atoms2 = prop2.propagate(atoms2)\n",
    "    # mean occupation of the excited state\n",
    "    state_occupation1.append(np.mean(atoms1.state_occupation(state=1)))\n",
    "    state_occupation2.append(np.mean(atoms2.state_occupation(state=1)))"
   ]
  },
  {
   "cell_type": "code",
   "execution_count": 12,
   "metadata": {},
   "outputs": [
    {
     "data": {
      "text/plain": [
       "<matplotlib.legend.Legend at 0x18076aee5c8>"
      ]
     },
     "execution_count": 12,
     "metadata": {},
     "output_type": "execute_result"
    },
    {
     "data": {
      "image/png": "[encoded data removed]",
      "text/plain": [
       "<Figure size 432x288 with 1 Axes>"
      ]
     },
     "metadata": {
      "needs_background": "light"
     },
     "output_type": "display_data"
    }
   ],
   "source": [
    "fig, ax = plt.subplots()\n",
    "ax.plot(1e6*taus, state_occupation1, label='w/o Doppler shift')\n",
    "ax.plot(1e6*taus, state_occupation2, label='with Doppler shift')\n",
    "ax.set_xlabel('Pulse duration / μs')\n",
    "ax.set_ylabel('Occupation of excited state');\n",
    "ax.legend()"
   ]
  },
  {
   "cell_type": "code",
   "execution_count": null,
   "metadata": {},
   "outputs": [],
   "source": []
  }
 ],
 "metadata": {
  "kernelspec": {
   "display_name": "Python 3",
   "language": "python",
   "name": "python3"
  },
  "language_info": {
   "codemirror_mode": {
    "name": "ipython",
    "version": 3
   },
   "file_extension": ".py",
   "mimetype": "text/x-python",
   "name": "python",
   "nbconvert_exporter": "python",
   "pygments_lexer": "ipython3",
   "version": "3.7.6"
  }
 },
 "nbformat": 4,
 "nbformat_minor": 2
}
